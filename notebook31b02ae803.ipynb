{
 "cells": [
  {
   "cell_type": "code",
   "execution_count": 1,
   "id": "242ef581",
   "metadata": {
    "_cell_guid": "b1076dfc-b9ad-4769-8c92-a6c4dae69d19",
    "_uuid": "8f2839f25d086af736a60e9eeb907d3b93b6e0e5",
    "execution": {
     "iopub.execute_input": "2023-12-16T17:12:04.480805Z",
     "iopub.status.busy": "2023-12-16T17:12:04.479096Z",
     "iopub.status.idle": "2023-12-16T17:12:04.485450Z",
     "shell.execute_reply": "2023-12-16T17:12:04.484602Z"
    },
    "papermill": {
     "duration": 0.01397,
     "end_time": "2023-12-16T17:12:04.487865",
     "exception": false,
     "start_time": "2023-12-16T17:12:04.473895",
     "status": "completed"
    },
    "tags": []
   },
   "outputs": [],
   "source": [
    "# This Python 3 environment comes with many helpful analytics libraries installed\n",
    "# It is defined by the kaggle/python Docker image: https://github.com/kaggle/docker-python\n",
    "# For example, here's several helpful packages to load\n",
    "\n",
    "\n",
    "# Input data files are available in the read-only \"../input/\" directory\n",
    "# For example, running this (by clicking run or pressing Shift+Enter) will list all files under the input directory\n",
    "\n",
    "\n",
    "\n",
    "# You can write up to 20GB to the current directory (/kaggle/working/) that gets preserved as output when you create a version using \"Save & Run All\" \n",
    "# You can also write temporary files to /kaggle/temp/, but they won't be saved outside of the current session"
   ]
  },
  {
   "cell_type": "code",
   "execution_count": 2,
   "id": "e164bd79",
   "metadata": {
    "execution": {
     "iopub.execute_input": "2023-12-16T17:12:04.497196Z",
     "iopub.status.busy": "2023-12-16T17:12:04.496488Z",
     "iopub.status.idle": "2023-12-16T17:12:06.598713Z",
     "shell.execute_reply": "2023-12-16T17:12:06.597488Z"
    },
    "papermill": {
     "duration": 2.111179,
     "end_time": "2023-12-16T17:12:06.603019",
     "exception": false,
     "start_time": "2023-12-16T17:12:04.491840",
     "status": "completed"
    },
    "tags": []
   },
   "outputs": [],
   "source": [
    "import numpy as np\n",
    "import pandas as pd\n",
    "import seaborn as sns\n",
    "import sklearn\n",
    "import matplotlib.pyplot as plot\n",
    "from wordcloud import WordCloud\n",
    "import string\n",
    "import warnings\n",
    "warnings.filterwarnings('ignore')"
   ]
  },
  {
   "cell_type": "code",
   "execution_count": 3,
   "id": "8d117794",
   "metadata": {
    "execution": {
     "iopub.execute_input": "2023-12-16T17:12:06.612577Z",
     "iopub.status.busy": "2023-12-16T17:12:06.611980Z",
     "iopub.status.idle": "2023-12-16T17:12:06.771704Z",
     "shell.execute_reply": "2023-12-16T17:12:06.770724Z"
    },
    "papermill": {
     "duration": 0.167079,
     "end_time": "2023-12-16T17:12:06.773941",
     "exception": false,
     "start_time": "2023-12-16T17:12:06.606862",
     "status": "completed"
    },
    "tags": []
   },
   "outputs": [
    {
     "data": {
      "text/html": [
       "<div>\n",
       "<style scoped>\n",
       "    .dataframe tbody tr th:only-of-type {\n",
       "        vertical-align: middle;\n",
       "    }\n",
       "\n",
       "    .dataframe tbody tr th {\n",
       "        vertical-align: top;\n",
       "    }\n",
       "\n",
       "    .dataframe thead th {\n",
       "        text-align: right;\n",
       "    }\n",
       "</style>\n",
       "<table border=\"1\" class=\"dataframe\">\n",
       "  <thead>\n",
       "    <tr style=\"text-align: right;\">\n",
       "      <th></th>\n",
       "      <th>MOVIES</th>\n",
       "      <th>YEAR</th>\n",
       "      <th>GENRE</th>\n",
       "      <th>RATING</th>\n",
       "      <th>ONE-LINE</th>\n",
       "      <th>STARS</th>\n",
       "      <th>VOTES</th>\n",
       "      <th>RunTime</th>\n",
       "      <th>Gross</th>\n",
       "    </tr>\n",
       "  </thead>\n",
       "  <tbody>\n",
       "    <tr>\n",
       "      <th>0</th>\n",
       "      <td>Blood Red Sky</td>\n",
       "      <td>(2021)</td>\n",
       "      <td>\\nAction, Horror, Thriller</td>\n",
       "      <td>6.1</td>\n",
       "      <td>\\nA woman with a mysterious illness is forced ...</td>\n",
       "      <td>\\n    Director:\\nPeter Thorwarth\\n| \\n    Star...</td>\n",
       "      <td>21,062</td>\n",
       "      <td>121.0</td>\n",
       "      <td>NaN</td>\n",
       "    </tr>\n",
       "    <tr>\n",
       "      <th>1</th>\n",
       "      <td>Masters of the Universe: Revelation</td>\n",
       "      <td>(2021– )</td>\n",
       "      <td>\\nAnimation, Action, Adventure</td>\n",
       "      <td>5.0</td>\n",
       "      <td>\\nThe war for Eternia begins again in what may...</td>\n",
       "      <td>\\n            \\n    Stars:\\nChris Wood, \\nSara...</td>\n",
       "      <td>17,870</td>\n",
       "      <td>25.0</td>\n",
       "      <td>NaN</td>\n",
       "    </tr>\n",
       "    <tr>\n",
       "      <th>2</th>\n",
       "      <td>The Walking Dead</td>\n",
       "      <td>(2010–2022)</td>\n",
       "      <td>\\nDrama, Horror, Thriller</td>\n",
       "      <td>8.2</td>\n",
       "      <td>\\nSheriff Deputy Rick Grimes wakes up from a c...</td>\n",
       "      <td>\\n            \\n    Stars:\\nAndrew Lincoln, \\n...</td>\n",
       "      <td>885,805</td>\n",
       "      <td>44.0</td>\n",
       "      <td>NaN</td>\n",
       "    </tr>\n",
       "    <tr>\n",
       "      <th>3</th>\n",
       "      <td>Rick and Morty</td>\n",
       "      <td>(2013– )</td>\n",
       "      <td>\\nAnimation, Adventure, Comedy</td>\n",
       "      <td>9.2</td>\n",
       "      <td>\\nAn animated series that follows the exploits...</td>\n",
       "      <td>\\n            \\n    Stars:\\nJustin Roiland, \\n...</td>\n",
       "      <td>414,849</td>\n",
       "      <td>23.0</td>\n",
       "      <td>NaN</td>\n",
       "    </tr>\n",
       "    <tr>\n",
       "      <th>4</th>\n",
       "      <td>Army of Thieves</td>\n",
       "      <td>(2021)</td>\n",
       "      <td>\\nAction, Crime, Horror</td>\n",
       "      <td>NaN</td>\n",
       "      <td>\\nA prequel, set before the events of Army of ...</td>\n",
       "      <td>\\n    Director:\\nMatthias Schweighöfer\\n| \\n  ...</td>\n",
       "      <td>NaN</td>\n",
       "      <td>NaN</td>\n",
       "      <td>NaN</td>\n",
       "    </tr>\n",
       "  </tbody>\n",
       "</table>\n",
       "</div>"
      ],
      "text/plain": [
       "                                MOVIES         YEAR  \\\n",
       "0                        Blood Red Sky       (2021)   \n",
       "1  Masters of the Universe: Revelation     (2021– )   \n",
       "2                     The Walking Dead  (2010–2022)   \n",
       "3                       Rick and Morty     (2013– )   \n",
       "4                      Army of Thieves       (2021)   \n",
       "\n",
       "                                        GENRE  RATING  \\\n",
       "0      \\nAction, Horror, Thriller                 6.1   \n",
       "1  \\nAnimation, Action, Adventure                 5.0   \n",
       "2       \\nDrama, Horror, Thriller                 8.2   \n",
       "3  \\nAnimation, Adventure, Comedy                 9.2   \n",
       "4         \\nAction, Crime, Horror                 NaN   \n",
       "\n",
       "                                            ONE-LINE  \\\n",
       "0  \\nA woman with a mysterious illness is forced ...   \n",
       "1  \\nThe war for Eternia begins again in what may...   \n",
       "2  \\nSheriff Deputy Rick Grimes wakes up from a c...   \n",
       "3  \\nAn animated series that follows the exploits...   \n",
       "4  \\nA prequel, set before the events of Army of ...   \n",
       "\n",
       "                                               STARS    VOTES  RunTime Gross  \n",
       "0  \\n    Director:\\nPeter Thorwarth\\n| \\n    Star...   21,062    121.0   NaN  \n",
       "1  \\n            \\n    Stars:\\nChris Wood, \\nSara...   17,870     25.0   NaN  \n",
       "2  \\n            \\n    Stars:\\nAndrew Lincoln, \\n...  885,805     44.0   NaN  \n",
       "3  \\n            \\n    Stars:\\nJustin Roiland, \\n...  414,849     23.0   NaN  \n",
       "4  \\n    Director:\\nMatthias Schweighöfer\\n| \\n  ...      NaN      NaN   NaN  "
      ]
     },
     "execution_count": 3,
     "metadata": {},
     "output_type": "execute_result"
    }
   ],
   "source": [
    "data = pd.read_csv(\"/kaggle/input/movies-dataset-for-feature-extracion-prediction/movies.csv\")\n",
    "data.head()"
   ]
  },
  {
   "cell_type": "code",
   "execution_count": 4,
   "id": "b5abce58",
   "metadata": {
    "execution": {
     "iopub.execute_input": "2023-12-16T17:12:06.783803Z",
     "iopub.status.busy": "2023-12-16T17:12:06.783273Z",
     "iopub.status.idle": "2023-12-16T17:12:06.818289Z",
     "shell.execute_reply": "2023-12-16T17:12:06.817136Z"
    },
    "papermill": {
     "duration": 0.043098,
     "end_time": "2023-12-16T17:12:06.820516",
     "exception": false,
     "start_time": "2023-12-16T17:12:06.777418",
     "status": "completed"
    },
    "tags": []
   },
   "outputs": [
    {
     "name": "stdout",
     "output_type": "stream",
     "text": [
      "<class 'pandas.core.frame.DataFrame'>\n",
      "RangeIndex: 9999 entries, 0 to 9998\n",
      "Data columns (total 9 columns):\n",
      " #   Column    Non-Null Count  Dtype  \n",
      "---  ------    --------------  -----  \n",
      " 0   MOVIES    9999 non-null   object \n",
      " 1   YEAR      9355 non-null   object \n",
      " 2   GENRE     9919 non-null   object \n",
      " 3   RATING    8179 non-null   float64\n",
      " 4   ONE-LINE  9999 non-null   object \n",
      " 5   STARS     9999 non-null   object \n",
      " 6   VOTES     8179 non-null   object \n",
      " 7   RunTime   7041 non-null   float64\n",
      " 8   Gross     460 non-null    object \n",
      "dtypes: float64(2), object(7)\n",
      "memory usage: 703.2+ KB\n"
     ]
    }
   ],
   "source": [
    "data.info()"
   ]
  },
  {
   "cell_type": "code",
   "execution_count": 5,
   "id": "e88079f0",
   "metadata": {
    "execution": {
     "iopub.execute_input": "2023-12-16T17:12:06.830075Z",
     "iopub.status.busy": "2023-12-16T17:12:06.828707Z",
     "iopub.status.idle": "2023-12-16T17:12:06.896009Z",
     "shell.execute_reply": "2023-12-16T17:12:06.894660Z"
    },
    "papermill": {
     "duration": 0.075185,
     "end_time": "2023-12-16T17:12:06.899274",
     "exception": false,
     "start_time": "2023-12-16T17:12:06.824089",
     "status": "completed"
    },
    "tags": []
   },
   "outputs": [
    {
     "data": {
      "text/html": [
       "<div>\n",
       "<style scoped>\n",
       "    .dataframe tbody tr th:only-of-type {\n",
       "        vertical-align: middle;\n",
       "    }\n",
       "\n",
       "    .dataframe tbody tr th {\n",
       "        vertical-align: top;\n",
       "    }\n",
       "\n",
       "    .dataframe thead th {\n",
       "        text-align: right;\n",
       "    }\n",
       "</style>\n",
       "<table border=\"1\" class=\"dataframe\">\n",
       "  <thead>\n",
       "    <tr style=\"text-align: right;\">\n",
       "      <th></th>\n",
       "      <th>MOVIES</th>\n",
       "      <th>YEAR</th>\n",
       "      <th>GENRE</th>\n",
       "      <th>RATING</th>\n",
       "      <th>ONE-LINE</th>\n",
       "      <th>STARS</th>\n",
       "      <th>VOTES</th>\n",
       "      <th>RunTime</th>\n",
       "      <th>Gross</th>\n",
       "    </tr>\n",
       "  </thead>\n",
       "  <tbody>\n",
       "    <tr>\n",
       "      <th>count</th>\n",
       "      <td>9999</td>\n",
       "      <td>9355</td>\n",
       "      <td>9919</td>\n",
       "      <td>8179.000000</td>\n",
       "      <td>9999</td>\n",
       "      <td>9999</td>\n",
       "      <td>8179</td>\n",
       "      <td>7041.000000</td>\n",
       "      <td>460</td>\n",
       "    </tr>\n",
       "    <tr>\n",
       "      <th>unique</th>\n",
       "      <td>6817</td>\n",
       "      <td>438</td>\n",
       "      <td>510</td>\n",
       "      <td>NaN</td>\n",
       "      <td>8688</td>\n",
       "      <td>7877</td>\n",
       "      <td>4129</td>\n",
       "      <td>NaN</td>\n",
       "      <td>332</td>\n",
       "    </tr>\n",
       "    <tr>\n",
       "      <th>top</th>\n",
       "      <td>Bleach: Burîchi</td>\n",
       "      <td>(2020– )</td>\n",
       "      <td>\\nComedy</td>\n",
       "      <td>NaN</td>\n",
       "      <td>\\nAdd a Plot\\n</td>\n",
       "      <td>\\n</td>\n",
       "      <td>7</td>\n",
       "      <td>NaN</td>\n",
       "      <td>$0.01M</td>\n",
       "    </tr>\n",
       "    <tr>\n",
       "      <th>freq</th>\n",
       "      <td>65</td>\n",
       "      <td>892</td>\n",
       "      <td>852</td>\n",
       "      <td>NaN</td>\n",
       "      <td>1265</td>\n",
       "      <td>456</td>\n",
       "      <td>35</td>\n",
       "      <td>NaN</td>\n",
       "      <td>22</td>\n",
       "    </tr>\n",
       "    <tr>\n",
       "      <th>mean</th>\n",
       "      <td>NaN</td>\n",
       "      <td>NaN</td>\n",
       "      <td>NaN</td>\n",
       "      <td>6.921176</td>\n",
       "      <td>NaN</td>\n",
       "      <td>NaN</td>\n",
       "      <td>NaN</td>\n",
       "      <td>68.688539</td>\n",
       "      <td>NaN</td>\n",
       "    </tr>\n",
       "    <tr>\n",
       "      <th>std</th>\n",
       "      <td>NaN</td>\n",
       "      <td>NaN</td>\n",
       "      <td>NaN</td>\n",
       "      <td>1.220232</td>\n",
       "      <td>NaN</td>\n",
       "      <td>NaN</td>\n",
       "      <td>NaN</td>\n",
       "      <td>47.258056</td>\n",
       "      <td>NaN</td>\n",
       "    </tr>\n",
       "    <tr>\n",
       "      <th>min</th>\n",
       "      <td>NaN</td>\n",
       "      <td>NaN</td>\n",
       "      <td>NaN</td>\n",
       "      <td>1.100000</td>\n",
       "      <td>NaN</td>\n",
       "      <td>NaN</td>\n",
       "      <td>NaN</td>\n",
       "      <td>1.000000</td>\n",
       "      <td>NaN</td>\n",
       "    </tr>\n",
       "    <tr>\n",
       "      <th>25%</th>\n",
       "      <td>NaN</td>\n",
       "      <td>NaN</td>\n",
       "      <td>NaN</td>\n",
       "      <td>6.200000</td>\n",
       "      <td>NaN</td>\n",
       "      <td>NaN</td>\n",
       "      <td>NaN</td>\n",
       "      <td>36.000000</td>\n",
       "      <td>NaN</td>\n",
       "    </tr>\n",
       "    <tr>\n",
       "      <th>50%</th>\n",
       "      <td>NaN</td>\n",
       "      <td>NaN</td>\n",
       "      <td>NaN</td>\n",
       "      <td>7.100000</td>\n",
       "      <td>NaN</td>\n",
       "      <td>NaN</td>\n",
       "      <td>NaN</td>\n",
       "      <td>60.000000</td>\n",
       "      <td>NaN</td>\n",
       "    </tr>\n",
       "    <tr>\n",
       "      <th>75%</th>\n",
       "      <td>NaN</td>\n",
       "      <td>NaN</td>\n",
       "      <td>NaN</td>\n",
       "      <td>7.800000</td>\n",
       "      <td>NaN</td>\n",
       "      <td>NaN</td>\n",
       "      <td>NaN</td>\n",
       "      <td>95.000000</td>\n",
       "      <td>NaN</td>\n",
       "    </tr>\n",
       "    <tr>\n",
       "      <th>max</th>\n",
       "      <td>NaN</td>\n",
       "      <td>NaN</td>\n",
       "      <td>NaN</td>\n",
       "      <td>9.900000</td>\n",
       "      <td>NaN</td>\n",
       "      <td>NaN</td>\n",
       "      <td>NaN</td>\n",
       "      <td>853.000000</td>\n",
       "      <td>NaN</td>\n",
       "    </tr>\n",
       "  </tbody>\n",
       "</table>\n",
       "</div>"
      ],
      "text/plain": [
       "                  MOVIES      YEAR                 GENRE       RATING  \\\n",
       "count               9999      9355                  9919  8179.000000   \n",
       "unique              6817       438                   510          NaN   \n",
       "top      Bleach: Burîchi  (2020– )  \\nComedy                      NaN   \n",
       "freq                  65       892                   852          NaN   \n",
       "mean                 NaN       NaN                   NaN     6.921176   \n",
       "std                  NaN       NaN                   NaN     1.220232   \n",
       "min                  NaN       NaN                   NaN     1.100000   \n",
       "25%                  NaN       NaN                   NaN     6.200000   \n",
       "50%                  NaN       NaN                   NaN     7.100000   \n",
       "75%                  NaN       NaN                   NaN     7.800000   \n",
       "max                  NaN       NaN                   NaN     9.900000   \n",
       "\n",
       "              ONE-LINE STARS VOTES      RunTime   Gross  \n",
       "count             9999  9999  8179  7041.000000     460  \n",
       "unique            8688  7877  4129          NaN     332  \n",
       "top     \\nAdd a Plot\\n    \\n     7          NaN  $0.01M  \n",
       "freq              1265   456    35          NaN      22  \n",
       "mean               NaN   NaN   NaN    68.688539     NaN  \n",
       "std                NaN   NaN   NaN    47.258056     NaN  \n",
       "min                NaN   NaN   NaN     1.000000     NaN  \n",
       "25%                NaN   NaN   NaN    36.000000     NaN  \n",
       "50%                NaN   NaN   NaN    60.000000     NaN  \n",
       "75%                NaN   NaN   NaN    95.000000     NaN  \n",
       "max                NaN   NaN   NaN   853.000000     NaN  "
      ]
     },
     "execution_count": 5,
     "metadata": {},
     "output_type": "execute_result"
    }
   ],
   "source": [
    "data.describe(include = 'all')"
   ]
  },
  {
   "cell_type": "markdown",
   "id": "55d22b98",
   "metadata": {
    "papermill": {
     "duration": 0.004261,
     "end_time": "2023-12-16T17:12:06.908391",
     "exception": false,
     "start_time": "2023-12-16T17:12:06.904130",
     "status": "completed"
    },
    "tags": []
   },
   "source": [
    "MISSING VALUES"
   ]
  },
  {
   "cell_type": "code",
   "execution_count": 6,
   "id": "cefd7a7d",
   "metadata": {
    "execution": {
     "iopub.execute_input": "2023-12-16T17:12:06.919492Z",
     "iopub.status.busy": "2023-12-16T17:12:06.918279Z",
     "iopub.status.idle": "2023-12-16T17:12:06.933104Z",
     "shell.execute_reply": "2023-12-16T17:12:06.931621Z"
    },
    "papermill": {
     "duration": 0.023178,
     "end_time": "2023-12-16T17:12:06.936183",
     "exception": false,
     "start_time": "2023-12-16T17:12:06.913005",
     "status": "completed"
    },
    "tags": []
   },
   "outputs": [
    {
     "data": {
      "text/plain": [
       "MOVIES         0\n",
       "YEAR         644\n",
       "GENRE         80\n",
       "RATING      1820\n",
       "ONE-LINE       0\n",
       "STARS          0\n",
       "VOTES       1820\n",
       "RunTime     2958\n",
       "Gross       9539\n",
       "dtype: int64"
      ]
     },
     "execution_count": 6,
     "metadata": {},
     "output_type": "execute_result"
    }
   ],
   "source": [
    "null = data.isnull().sum()\n",
    "null"
   ]
  },
  {
   "cell_type": "markdown",
   "id": "28d32f1c",
   "metadata": {
    "papermill": {
     "duration": 0.003833,
     "end_time": "2023-12-16T17:12:06.947921",
     "exception": false,
     "start_time": "2023-12-16T17:12:06.944088",
     "status": "completed"
    },
    "tags": []
   },
   "source": [
    "Identifying Datatype"
   ]
  },
  {
   "cell_type": "code",
   "execution_count": 7,
   "id": "09a9b80f",
   "metadata": {
    "execution": {
     "iopub.execute_input": "2023-12-16T17:12:06.957790Z",
     "iopub.status.busy": "2023-12-16T17:12:06.957384Z",
     "iopub.status.idle": "2023-12-16T17:12:07.478311Z",
     "shell.execute_reply": "2023-12-16T17:12:07.477168Z"
    },
    "papermill": {
     "duration": 0.529162,
     "end_time": "2023-12-16T17:12:07.481032",
     "exception": false,
     "start_time": "2023-12-16T17:12:06.951870",
     "status": "completed"
    },
    "tags": []
   },
   "outputs": [
    {
     "data": {
      "text/plain": [
       "<Axes: >"
      ]
     },
     "execution_count": 7,
     "metadata": {},
     "output_type": "execute_result"
    },
    {
     "data": {
      "image/png": "[encoded data removed]",
      "text/plain": [
       "<Figure size 640x480 with 2 Axes>"
      ]
     },
     "metadata": {},
     "output_type": "display_data"
    }
   ],
   "source": [
    "plot.figure()\n",
    "sns.heatmap(data.isnull(), yticklabels=False, cbar=True)"
   ]
  }
 ],
 "metadata": {
  "kaggle": {
   "accelerator": "none",
   "dataSources": [
    {
     "datasetId": 1512088,
     "sourceId": 2497338,
     "sourceType": "datasetVersion"
    }
   ],
   "dockerImageVersionId": 30626,
   "isGpuEnabled": false,
   "isInternetEnabled": false,
   "language": "python",
   "sourceType": "notebook"
  },
  "kernelspec": {
   "display_name": "Python 3",
   "language": "python",
   "name": "python3"
  },
  "language_info": {
   "codemirror_mode": {
    "name": "ipython",
    "version": 3
   },
   "file_extension": ".py",
   "mimetype": "text/x-python",
   "name": "python",
   "nbconvert_exporter": "python",
   "pygments_lexer": "ipython3",
   "version": "3.10.12"
  },
  "papermill": {
   "default_parameters": {},
   "duration": 6.897572,
   "end_time": "2023-12-16T17:12:08.208769",
   "environment_variables": {},
   "exception": null,
   "input_path": "__notebook__.ipynb",
   "output_path": "__notebook__.ipynb",
   "parameters": {},
   "start_time": "2023-12-16T17:12:01.311197",
   "version": "2.4.0"
  }
 },
 "nbformat": 4,
 "nbformat_minor": 5
}
