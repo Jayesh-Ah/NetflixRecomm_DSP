{
 "cells": [
  {
   "cell_type": "code",
   "execution_count": 1,
   "id": "b7874f21",
   "metadata": {
    "_cell_guid": "b1076dfc-b9ad-4769-8c92-a6c4dae69d19",
    "_uuid": "8f2839f25d086af736a60e9eeb907d3b93b6e0e5",
    "execution": {
     "iopub.execute_input": "2024-01-07T17:38:56.607113Z",
     "iopub.status.busy": "2024-01-07T17:38:56.606515Z",
     "iopub.status.idle": "2024-01-07T17:38:56.611016Z",
     "shell.execute_reply": "2024-01-07T17:38:56.610379Z"
    },
    "papermill": {
     "duration": 0.013248,
     "end_time": "2024-01-07T17:38:56.612716",
     "exception": false,
     "start_time": "2024-01-07T17:38:56.599468",
     "status": "completed"
    },
    "tags": []
   },
   "outputs": [],
   "source": [
    "# This Python 3 environment comes with many helpful analytics libraries installed\n",
    "# It is defined by the kaggle/python Docker image: https://github.com/kaggle/docker-python\n",
    "# For example, here's several helpful packages to load\n",
    "\n",
    "\n",
    "# Input data files are available in the read-only \"../input/\" directory\n",
    "# For example, running this (by clicking run or pressing Shift+Enter) will list all files under the input directory\n",
    "\n",
    "\n",
    "\n",
    "# You can write up to 20GB to the current directory (/kaggle/working/) that gets preserved as output when you create a version using \"Save & Run All\" \n",
    "# You can also write temporary files to /kaggle/temp/, but they won't be saved outside of the current session"
   ]
  },
  {
   "cell_type": "code",
   "execution_count": 2,
   "id": "2461fae9",
   "metadata": {
    "execution": {
     "iopub.execute_input": "2024-01-07T17:38:56.624212Z",
     "iopub.status.busy": "2024-01-07T17:38:56.623758Z",
     "iopub.status.idle": "2024-01-07T17:38:58.064785Z",
     "shell.execute_reply": "2024-01-07T17:38:58.064009Z"
    },
    "papermill": {
     "duration": 1.449085,
     "end_time": "2024-01-07T17:38:58.066859",
     "exception": false,
     "start_time": "2024-01-07T17:38:56.617774",
     "status": "completed"
    },
    "tags": []
   },
   "outputs": [],
   "source": [
    "import numpy as np\n",
    "import pandas as pd\n",
    "import seaborn as sns\n",
    "import sklearn\n",
    "import matplotlib.pyplot as plot\n",
    "from wordcloud import WordCloud\n",
    "import string\n",
    "import warnings\n",
    "warnings.filterwarnings('ignore')"
   ]
  },
  {
   "cell_type": "code",
   "execution_count": 3,
   "id": "9403daf3",
   "metadata": {
    "execution": {
     "iopub.execute_input": "2024-01-07T17:38:58.078587Z",
     "iopub.status.busy": "2024-01-07T17:38:58.077981Z",
     "iopub.status.idle": "2024-01-07T17:38:58.191746Z",
     "shell.execute_reply": "2024-01-07T17:38:58.190860Z"
    },
    "papermill": {
     "duration": 0.12172,
     "end_time": "2024-01-07T17:38:58.193741",
     "exception": false,
     "start_time": "2024-01-07T17:38:58.072021",
     "status": "completed"
    },
    "tags": []
   },
   "outputs": [
    {
     "data": {
      "text/html": [
       "<div>\n",
       "<style scoped>\n",
       "    .dataframe tbody tr th:only-of-type {\n",
       "        vertical-align: middle;\n",
       "    }\n",
       "\n",
       "    .dataframe tbody tr th {\n",
       "        vertical-align: top;\n",
       "    }\n",
       "\n",
       "    .dataframe thead th {\n",
       "        text-align: right;\n",
       "    }\n",
       "</style>\n",
       "<table border=\"1\" class=\"dataframe\">\n",
       "  <thead>\n",
       "    <tr style=\"text-align: right;\">\n",
       "      <th></th>\n",
       "      <th>MOVIES</th>\n",
       "      <th>YEAR</th>\n",
       "      <th>GENRE</th>\n",
       "      <th>RATING</th>\n",
       "      <th>ONE-LINE</th>\n",
       "      <th>STARS</th>\n",
       "      <th>VOTES</th>\n",
       "      <th>RunTime</th>\n",
       "      <th>Gross</th>\n",
       "    </tr>\n",
       "  </thead>\n",
       "  <tbody>\n",
       "    <tr>\n",
       "      <th>0</th>\n",
       "      <td>Blood Red Sky</td>\n",
       "      <td>(2021)</td>\n",
       "      <td>\\nAction, Horror, Thriller</td>\n",
       "      <td>6.1</td>\n",
       "      <td>\\nA woman with a mysterious illness is forced ...</td>\n",
       "      <td>\\n    Director:\\nPeter Thorwarth\\n| \\n    Star...</td>\n",
       "      <td>21,062</td>\n",
       "      <td>121.0</td>\n",
       "      <td>NaN</td>\n",
       "    </tr>\n",
       "    <tr>\n",
       "      <th>1</th>\n",
       "      <td>Masters of the Universe: Revelation</td>\n",
       "      <td>(2021– )</td>\n",
       "      <td>\\nAnimation, Action, Adventure</td>\n",
       "      <td>5.0</td>\n",
       "      <td>\\nThe war for Eternia begins again in what may...</td>\n",
       "      <td>\\n            \\n    Stars:\\nChris Wood, \\nSara...</td>\n",
       "      <td>17,870</td>\n",
       "      <td>25.0</td>\n",
       "      <td>NaN</td>\n",
       "    </tr>\n",
       "    <tr>\n",
       "      <th>2</th>\n",
       "      <td>The Walking Dead</td>\n",
       "      <td>(2010–2022)</td>\n",
       "      <td>\\nDrama, Horror, Thriller</td>\n",
       "      <td>8.2</td>\n",
       "      <td>\\nSheriff Deputy Rick Grimes wakes up from a c...</td>\n",
       "      <td>\\n            \\n    Stars:\\nAndrew Lincoln, \\n...</td>\n",
       "      <td>885,805</td>\n",
       "      <td>44.0</td>\n",
       "      <td>NaN</td>\n",
       "    </tr>\n",
       "    <tr>\n",
       "      <th>3</th>\n",
       "      <td>Rick and Morty</td>\n",
       "      <td>(2013– )</td>\n",
       "      <td>\\nAnimation, Adventure, Comedy</td>\n",
       "      <td>9.2</td>\n",
       "      <td>\\nAn animated series that follows the exploits...</td>\n",
       "      <td>\\n            \\n    Stars:\\nJustin Roiland, \\n...</td>\n",
       "      <td>414,849</td>\n",
       "      <td>23.0</td>\n",
       "      <td>NaN</td>\n",
       "    </tr>\n",
       "    <tr>\n",
       "      <th>4</th>\n",
       "      <td>Army of Thieves</td>\n",
       "      <td>(2021)</td>\n",
       "      <td>\\nAction, Crime, Horror</td>\n",
       "      <td>NaN</td>\n",
       "      <td>\\nA prequel, set before the events of Army of ...</td>\n",
       "      <td>\\n    Director:\\nMatthias Schweighöfer\\n| \\n  ...</td>\n",
       "      <td>NaN</td>\n",
       "      <td>NaN</td>\n",
       "      <td>NaN</td>\n",
       "    </tr>\n",
       "  </tbody>\n",
       "</table>\n",
       "</div>"
      ],
      "text/plain": [
       "                                MOVIES         YEAR  \\\n",
       "0                        Blood Red Sky       (2021)   \n",
       "1  Masters of the Universe: Revelation     (2021– )   \n",
       "2                     The Walking Dead  (2010–2022)   \n",
       "3                       Rick and Morty     (2013– )   \n",
       "4                      Army of Thieves       (2021)   \n",
       "\n",
       "                                        GENRE  RATING  \\\n",
       "0      \\nAction, Horror, Thriller                 6.1   \n",
       "1  \\nAnimation, Action, Adventure                 5.0   \n",
       "2       \\nDrama, Horror, Thriller                 8.2   \n",
       "3  \\nAnimation, Adventure, Comedy                 9.2   \n",
       "4         \\nAction, Crime, Horror                 NaN   \n",
       "\n",
       "                                            ONE-LINE  \\\n",
       "0  \\nA woman with a mysterious illness is forced ...   \n",
       "1  \\nThe war for Eternia begins again in what may...   \n",
       "2  \\nSheriff Deputy Rick Grimes wakes up from a c...   \n",
       "3  \\nAn animated series that follows the exploits...   \n",
       "4  \\nA prequel, set before the events of Army of ...   \n",
       "\n",
       "                                               STARS    VOTES  RunTime Gross  \n",
       "0  \\n    Director:\\nPeter Thorwarth\\n| \\n    Star...   21,062    121.0   NaN  \n",
       "1  \\n            \\n    Stars:\\nChris Wood, \\nSara...   17,870     25.0   NaN  \n",
       "2  \\n            \\n    Stars:\\nAndrew Lincoln, \\n...  885,805     44.0   NaN  \n",
       "3  \\n            \\n    Stars:\\nJustin Roiland, \\n...  414,849     23.0   NaN  \n",
       "4  \\n    Director:\\nMatthias Schweighöfer\\n| \\n  ...      NaN      NaN   NaN  "
      ]
     },
     "execution_count": 3,
     "metadata": {},
     "output_type": "execute_result"
    }
   ],
   "source": [
    "data = pd.read_csv(\"/kaggle/input/movies-dataset-for-feature-extracion-prediction/movies.csv\")\n",
    "data.head()"
   ]
  },
  {
   "cell_type": "code",
   "execution_count": 4,
   "id": "bc7a57e7",
   "metadata": {
    "execution": {
     "iopub.execute_input": "2024-01-07T17:38:58.205133Z",
     "iopub.status.busy": "2024-01-07T17:38:58.204826Z",
     "iopub.status.idle": "2024-01-07T17:38:58.227298Z",
     "shell.execute_reply": "2024-01-07T17:38:58.226469Z"
    },
    "papermill": {
     "duration": 0.030147,
     "end_time": "2024-01-07T17:38:58.229203",
     "exception": false,
     "start_time": "2024-01-07T17:38:58.199056",
     "status": "completed"
    },
    "tags": []
   },
   "outputs": [
    {
     "name": "stdout",
     "output_type": "stream",
     "text": [
      "<class 'pandas.core.frame.DataFrame'>\n",
      "RangeIndex: 9999 entries, 0 to 9998\n",
      "Data columns (total 9 columns):\n",
      " #   Column    Non-Null Count  Dtype  \n",
      "---  ------    --------------  -----  \n",
      " 0   MOVIES    9999 non-null   object \n",
      " 1   YEAR      9355 non-null   object \n",
      " 2   GENRE     9919 non-null   object \n",
      " 3   RATING    8179 non-null   float64\n",
      " 4   ONE-LINE  9999 non-null   object \n",
      " 5   STARS     9999 non-null   object \n",
      " 6   VOTES     8179 non-null   object \n",
      " 7   RunTime   7041 non-null   float64\n",
      " 8   Gross     460 non-null    object \n",
      "dtypes: float64(2), object(7)\n",
      "memory usage: 703.2+ KB\n"
     ]
    }
   ],
   "source": [
    "data.info()"
   ]
  },
  {
   "cell_type": "code",
   "execution_count": 5,
   "id": "1dd959b2",
   "metadata": {
    "execution": {
     "iopub.execute_input": "2024-01-07T17:38:58.240726Z",
     "iopub.status.busy": "2024-01-07T17:38:58.240477Z",
     "iopub.status.idle": "2024-01-07T17:38:58.282488Z",
     "shell.execute_reply": "2024-01-07T17:38:58.281513Z"
    },
    "papermill": {
     "duration": 0.049655,
     "end_time": "2024-01-07T17:38:58.284289",
     "exception": false,
     "start_time": "2024-01-07T17:38:58.234634",
     "status": "completed"
    },
    "tags": []
   },
   "outputs": [
    {
     "data": {
      "text/html": [
       "<div>\n",
       "<style scoped>\n",
       "    .dataframe tbody tr th:only-of-type {\n",
       "        vertical-align: middle;\n",
       "    }\n",
       "\n",
       "    .dataframe tbody tr th {\n",
       "        vertical-align: top;\n",
       "    }\n",
       "\n",
       "    .dataframe thead th {\n",
       "        text-align: right;\n",
       "    }\n",
       "</style>\n",
       "<table border=\"1\" class=\"dataframe\">\n",
       "  <thead>\n",
       "    <tr style=\"text-align: right;\">\n",
       "      <th></th>\n",
       "      <th>MOVIES</th>\n",
       "      <th>YEAR</th>\n",
       "      <th>GENRE</th>\n",
       "      <th>RATING</th>\n",
       "      <th>ONE-LINE</th>\n",
       "      <th>STARS</th>\n",
       "      <th>VOTES</th>\n",
       "      <th>RunTime</th>\n",
       "      <th>Gross</th>\n",
       "    </tr>\n",
       "  </thead>\n",
       "  <tbody>\n",
       "    <tr>\n",
       "      <th>count</th>\n",
       "      <td>9999</td>\n",
       "      <td>9355</td>\n",
       "      <td>9919</td>\n",
       "      <td>8179.000000</td>\n",
       "      <td>9999</td>\n",
       "      <td>9999</td>\n",
       "      <td>8179</td>\n",
       "      <td>7041.000000</td>\n",
       "      <td>460</td>\n",
       "    </tr>\n",
       "    <tr>\n",
       "      <th>unique</th>\n",
       "      <td>6817</td>\n",
       "      <td>438</td>\n",
       "      <td>510</td>\n",
       "      <td>NaN</td>\n",
       "      <td>8688</td>\n",
       "      <td>7877</td>\n",
       "      <td>4129</td>\n",
       "      <td>NaN</td>\n",
       "      <td>332</td>\n",
       "    </tr>\n",
       "    <tr>\n",
       "      <th>top</th>\n",
       "      <td>Bleach: Burîchi</td>\n",
       "      <td>(2020– )</td>\n",
       "      <td>\\nComedy</td>\n",
       "      <td>NaN</td>\n",
       "      <td>\\nAdd a Plot\\n</td>\n",
       "      <td>\\n</td>\n",
       "      <td>7</td>\n",
       "      <td>NaN</td>\n",
       "      <td>$0.01M</td>\n",
       "    </tr>\n",
       "    <tr>\n",
       "      <th>freq</th>\n",
       "      <td>65</td>\n",
       "      <td>892</td>\n",
       "      <td>852</td>\n",
       "      <td>NaN</td>\n",
       "      <td>1265</td>\n",
       "      <td>456</td>\n",
       "      <td>35</td>\n",
       "      <td>NaN</td>\n",
       "      <td>22</td>\n",
       "    </tr>\n",
       "    <tr>\n",
       "      <th>mean</th>\n",
       "      <td>NaN</td>\n",
       "      <td>NaN</td>\n",
       "      <td>NaN</td>\n",
       "      <td>6.921176</td>\n",
       "      <td>NaN</td>\n",
       "      <td>NaN</td>\n",
       "      <td>NaN</td>\n",
       "      <td>68.688539</td>\n",
       "      <td>NaN</td>\n",
       "    </tr>\n",
       "    <tr>\n",
       "      <th>std</th>\n",
       "      <td>NaN</td>\n",
       "      <td>NaN</td>\n",
       "      <td>NaN</td>\n",
       "      <td>1.220232</td>\n",
       "      <td>NaN</td>\n",
       "      <td>NaN</td>\n",
       "      <td>NaN</td>\n",
       "      <td>47.258056</td>\n",
       "      <td>NaN</td>\n",
       "    </tr>\n",
       "    <tr>\n",
       "      <th>min</th>\n",
       "      <td>NaN</td>\n",
       "      <td>NaN</td>\n",
       "      <td>NaN</td>\n",
       "      <td>1.100000</td>\n",
       "      <td>NaN</td>\n",
       "      <td>NaN</td>\n",
       "      <td>NaN</td>\n",
       "      <td>1.000000</td>\n",
       "      <td>NaN</td>\n",
       "    </tr>\n",
       "    <tr>\n",
       "      <th>25%</th>\n",
       "      <td>NaN</td>\n",
       "      <td>NaN</td>\n",
       "      <td>NaN</td>\n",
       "      <td>6.200000</td>\n",
       "      <td>NaN</td>\n",
       "      <td>NaN</td>\n",
       "      <td>NaN</td>\n",
       "      <td>36.000000</td>\n",
       "      <td>NaN</td>\n",
       "    </tr>\n",
       "    <tr>\n",
       "      <th>50%</th>\n",
       "      <td>NaN</td>\n",
       "      <td>NaN</td>\n",
       "      <td>NaN</td>\n",
       "      <td>7.100000</td>\n",
       "      <td>NaN</td>\n",
       "      <td>NaN</td>\n",
       "      <td>NaN</td>\n",
       "      <td>60.000000</td>\n",
       "      <td>NaN</td>\n",
       "    </tr>\n",
       "    <tr>\n",
       "      <th>75%</th>\n",
       "      <td>NaN</td>\n",
       "      <td>NaN</td>\n",
       "      <td>NaN</td>\n",
       "      <td>7.800000</td>\n",
       "      <td>NaN</td>\n",
       "      <td>NaN</td>\n",
       "      <td>NaN</td>\n",
       "      <td>95.000000</td>\n",
       "      <td>NaN</td>\n",
       "    </tr>\n",
       "    <tr>\n",
       "      <th>max</th>\n",
       "      <td>NaN</td>\n",
       "      <td>NaN</td>\n",
       "      <td>NaN</td>\n",
       "      <td>9.900000</td>\n",
       "      <td>NaN</td>\n",
       "      <td>NaN</td>\n",
       "      <td>NaN</td>\n",
       "      <td>853.000000</td>\n",
       "      <td>NaN</td>\n",
       "    </tr>\n",
       "  </tbody>\n",
       "</table>\n",
       "</div>"
      ],
      "text/plain": [
       "                  MOVIES      YEAR                 GENRE       RATING  \\\n",
       "count               9999      9355                  9919  8179.000000   \n",
       "unique              6817       438                   510          NaN   \n",
       "top      Bleach: Burîchi  (2020– )  \\nComedy                      NaN   \n",
       "freq                  65       892                   852          NaN   \n",
       "mean                 NaN       NaN                   NaN     6.921176   \n",
       "std                  NaN       NaN                   NaN     1.220232   \n",
       "min                  NaN       NaN                   NaN     1.100000   \n",
       "25%                  NaN       NaN                   NaN     6.200000   \n",
       "50%                  NaN       NaN                   NaN     7.100000   \n",
       "75%                  NaN       NaN                   NaN     7.800000   \n",
       "max                  NaN       NaN                   NaN     9.900000   \n",
       "\n",
       "              ONE-LINE STARS VOTES      RunTime   Gross  \n",
       "count             9999  9999  8179  7041.000000     460  \n",
       "unique            8688  7877  4129          NaN     332  \n",
       "top     \\nAdd a Plot\\n    \\n     7          NaN  $0.01M  \n",
       "freq              1265   456    35          NaN      22  \n",
       "mean               NaN   NaN   NaN    68.688539     NaN  \n",
       "std                NaN   NaN   NaN    47.258056     NaN  \n",
       "min                NaN   NaN   NaN     1.000000     NaN  \n",
       "25%                NaN   NaN   NaN    36.000000     NaN  \n",
       "50%                NaN   NaN   NaN    60.000000     NaN  \n",
       "75%                NaN   NaN   NaN    95.000000     NaN  \n",
       "max                NaN   NaN   NaN   853.000000     NaN  "
      ]
     },
     "execution_count": 5,
     "metadata": {},
     "output_type": "execute_result"
    }
   ],
   "source": [
    "data.describe(include = 'all')"
   ]
  },
  {
   "cell_type": "markdown",
   "id": "83e3bda9",
   "metadata": {
    "papermill": {
     "duration": 0.005169,
     "end_time": "2024-01-07T17:38:58.295231",
     "exception": false,
     "start_time": "2024-01-07T17:38:58.290062",
     "status": "completed"
    },
    "tags": []
   },
   "source": [
    "MISSING VALUES"
   ]
  },
  {
   "cell_type": "code",
   "execution_count": 6,
   "id": "5589f7c5",
   "metadata": {
    "execution": {
     "iopub.execute_input": "2024-01-07T17:38:58.308389Z",
     "iopub.status.busy": "2024-01-07T17:38:58.307263Z",
     "iopub.status.idle": "2024-01-07T17:38:58.318037Z",
     "shell.execute_reply": "2024-01-07T17:38:58.317194Z"
    },
    "papermill": {
     "duration": 0.019536,
     "end_time": "2024-01-07T17:38:58.320201",
     "exception": false,
     "start_time": "2024-01-07T17:38:58.300665",
     "status": "completed"
    },
    "tags": []
   },
   "outputs": [
    {
     "data": {
      "text/plain": [
       "MOVIES         0\n",
       "YEAR         644\n",
       "GENRE         80\n",
       "RATING      1820\n",
       "ONE-LINE       0\n",
       "STARS          0\n",
       "VOTES       1820\n",
       "RunTime     2958\n",
       "Gross       9539\n",
       "dtype: int64"
      ]
     },
     "execution_count": 6,
     "metadata": {},
     "output_type": "execute_result"
    }
   ],
   "source": [
    "data.isnull().sum()"
   ]
  },
  {
   "cell_type": "markdown",
   "id": "df345455",
   "metadata": {
    "papermill": {
     "duration": 0.00549,
     "end_time": "2024-01-07T17:38:58.332143",
     "exception": false,
     "start_time": "2024-01-07T17:38:58.326653",
     "status": "completed"
    },
    "tags": []
   },
   "source": [
    "Identifying Datatype"
   ]
  },
  {
   "cell_type": "code",
   "execution_count": 7,
   "id": "bdb390c8",
   "metadata": {
    "execution": {
     "iopub.execute_input": "2024-01-07T17:38:58.345109Z",
     "iopub.status.busy": "2024-01-07T17:38:58.344146Z",
     "iopub.status.idle": "2024-01-07T17:38:58.708548Z",
     "shell.execute_reply": "2024-01-07T17:38:58.707829Z"
    },
    "papermill": {
     "duration": 0.372634,
     "end_time": "2024-01-07T17:38:58.710253",
     "exception": false,
     "start_time": "2024-01-07T17:38:58.337619",
     "status": "completed"
    },
    "tags": []
   },
   "outputs": [
    {
     "data": {
      "text/plain": [
       "<Axes: >"
      ]
     },
     "execution_count": 7,
     "metadata": {},
     "output_type": "execute_result"
    },
    {
     "data": {
      "image/png": "[encoded data removed]",
      "text/plain": [
       "<Figure size 640x480 with 2 Axes>"
      ]
     },
     "metadata": {},
     "output_type": "display_data"
    }
   ],
   "source": [
    "plot.figure()\n",
    "sns.heatmap(data.isnull(), yticklabels=False, cbar=True)"
   ]
  },
  {
   "cell_type": "code",
   "execution_count": 8,
   "id": "0c53a680",
   "metadata": {
    "execution": {
     "iopub.execute_input": "2024-01-07T17:38:58.724160Z",
     "iopub.status.busy": "2024-01-07T17:38:58.723235Z",
     "iopub.status.idle": "2024-01-07T17:38:58.728838Z",
     "shell.execute_reply": "2024-01-07T17:38:58.727739Z"
    },
    "papermill": {
     "duration": 0.014726,
     "end_time": "2024-01-07T17:38:58.731135",
     "exception": false,
     "start_time": "2024-01-07T17:38:58.716409",
     "status": "completed"
    },
    "tags": []
   },
   "outputs": [
    {
     "name": "stdout",
     "output_type": "stream",
     "text": [
      "['RATING', 'RunTime']\n"
     ]
    }
   ],
   "source": [
    "numcolumn = data._get_numeric_data().columns.tolist()\n",
    "print(numcolumn)"
   ]
  },
  {
   "cell_type": "code",
   "execution_count": 9,
   "id": "851ece95",
   "metadata": {
    "execution": {
     "iopub.execute_input": "2024-01-07T17:38:58.744591Z",
     "iopub.status.busy": "2024-01-07T17:38:58.744277Z",
     "iopub.status.idle": "2024-01-07T17:38:58.748441Z",
     "shell.execute_reply": "2024-01-07T17:38:58.747795Z"
    },
    "papermill": {
     "duration": 0.013809,
     "end_time": "2024-01-07T17:38:58.751229",
     "exception": false,
     "start_time": "2024-01-07T17:38:58.737420",
     "status": "completed"
    },
    "tags": []
   },
   "outputs": [
    {
     "name": "stdout",
     "output_type": "stream",
     "text": [
      "{'VOTES', 'ONE-LINE', 'STARS', 'YEAR', 'MOVIES', 'GENRE', 'Gross'}\n"
     ]
    }
   ],
   "source": [
    "catcolumn = set(data.columns) - set(numcolumn)\n",
    "print(catcolumn)"
   ]
  },
  {
   "cell_type": "code",
   "execution_count": 10,
   "id": "b89a7805",
   "metadata": {
    "execution": {
     "iopub.execute_input": "2024-01-07T17:38:58.765487Z",
     "iopub.status.busy": "2024-01-07T17:38:58.764979Z",
     "iopub.status.idle": "2024-01-07T17:38:58.785363Z",
     "shell.execute_reply": "2024-01-07T17:38:58.784430Z"
    },
    "papermill": {
     "duration": 0.029956,
     "end_time": "2024-01-07T17:38:58.787789",
     "exception": false,
     "start_time": "2024-01-07T17:38:58.757833",
     "status": "completed"
    },
    "tags": []
   },
   "outputs": [],
   "source": [
    "for i in catcolumn:\n",
    "    data[i].fillna(data[i].mode()[0], inplace=True)\n",
    "for i in numcolumn:\n",
    "    data[i].fillna(data[i].mean(), inplace=True)"
   ]
  },
  {
   "cell_type": "code",
   "execution_count": 11,
   "id": "407ca2ee",
   "metadata": {
    "execution": {
     "iopub.execute_input": "2024-01-07T17:38:58.802302Z",
     "iopub.status.busy": "2024-01-07T17:38:58.801710Z",
     "iopub.status.idle": "2024-01-07T17:38:58.812505Z",
     "shell.execute_reply": "2024-01-07T17:38:58.811538Z"
    },
    "papermill": {
     "duration": 0.020162,
     "end_time": "2024-01-07T17:38:58.814428",
     "exception": false,
     "start_time": "2024-01-07T17:38:58.794266",
     "status": "completed"
    },
    "tags": []
   },
   "outputs": [
    {
     "data": {
      "text/plain": [
       "MOVIES      0\n",
       "YEAR        0\n",
       "GENRE       0\n",
       "RATING      0\n",
       "ONE-LINE    0\n",
       "STARS       0\n",
       "VOTES       0\n",
       "RunTime     0\n",
       "Gross       0\n",
       "dtype: int64"
      ]
     },
     "execution_count": 11,
     "metadata": {},
     "output_type": "execute_result"
    }
   ],
   "source": [
    "data.isnull().sum()"
   ]
  },
  {
   "cell_type": "code",
   "execution_count": 12,
   "id": "64b87907",
   "metadata": {
    "execution": {
     "iopub.execute_input": "2024-01-07T17:38:58.828595Z",
     "iopub.status.busy": "2024-01-07T17:38:58.828250Z",
     "iopub.status.idle": "2024-01-07T17:38:58.840641Z",
     "shell.execute_reply": "2024-01-07T17:38:58.839799Z"
    },
    "papermill": {
     "duration": 0.021504,
     "end_time": "2024-01-07T17:38:58.842468",
     "exception": false,
     "start_time": "2024-01-07T17:38:58.820964",
     "status": "completed"
    },
    "tags": []
   },
   "outputs": [
    {
     "data": {
      "text/html": [
       "<div>\n",
       "<style scoped>\n",
       "    .dataframe tbody tr th:only-of-type {\n",
       "        vertical-align: middle;\n",
       "    }\n",
       "\n",
       "    .dataframe tbody tr th {\n",
       "        vertical-align: top;\n",
       "    }\n",
       "\n",
       "    .dataframe thead th {\n",
       "        text-align: right;\n",
       "    }\n",
       "</style>\n",
       "<table border=\"1\" class=\"dataframe\">\n",
       "  <thead>\n",
       "    <tr style=\"text-align: right;\">\n",
       "      <th></th>\n",
       "      <th>GENRE</th>\n",
       "      <th>ONE-LINE</th>\n",
       "      <th>STARS</th>\n",
       "    </tr>\n",
       "    <tr>\n",
       "      <th>MOVIES</th>\n",
       "      <th></th>\n",
       "      <th></th>\n",
       "      <th></th>\n",
       "    </tr>\n",
       "  </thead>\n",
       "  <tbody>\n",
       "    <tr>\n",
       "      <th>Blood Red Sky</th>\n",
       "      <td>\\nAction, Horror, Thriller</td>\n",
       "      <td>\\nA woman with a mysterious illness is forced ...</td>\n",
       "      <td>\\n    Director:\\nPeter Thorwarth\\n| \\n    Star...</td>\n",
       "    </tr>\n",
       "    <tr>\n",
       "      <th>Masters of the Universe: Revelation</th>\n",
       "      <td>\\nAnimation, Action, Adventure</td>\n",
       "      <td>\\nThe war for Eternia begins again in what may...</td>\n",
       "      <td>\\n            \\n    Stars:\\nChris Wood, \\nSara...</td>\n",
       "    </tr>\n",
       "    <tr>\n",
       "      <th>The Walking Dead</th>\n",
       "      <td>\\nDrama, Horror, Thriller</td>\n",
       "      <td>\\nSheriff Deputy Rick Grimes wakes up from a c...</td>\n",
       "      <td>\\n            \\n    Stars:\\nAndrew Lincoln, \\n...</td>\n",
       "    </tr>\n",
       "    <tr>\n",
       "      <th>Rick and Morty</th>\n",
       "      <td>\\nAnimation, Adventure, Comedy</td>\n",
       "      <td>\\nAn animated series that follows the exploits...</td>\n",
       "      <td>\\n            \\n    Stars:\\nJustin Roiland, \\n...</td>\n",
       "    </tr>\n",
       "    <tr>\n",
       "      <th>Army of Thieves</th>\n",
       "      <td>\\nAction, Crime, Horror</td>\n",
       "      <td>\\nA prequel, set before the events of Army of ...</td>\n",
       "      <td>\\n    Director:\\nMatthias Schweighöfer\\n| \\n  ...</td>\n",
       "    </tr>\n",
       "  </tbody>\n",
       "</table>\n",
       "</div>"
      ],
      "text/plain": [
       "                                                                          GENRE  \\\n",
       "MOVIES                                                                            \n",
       "Blood Red Sky                            \\nAction, Horror, Thriller               \n",
       "Masters of the Universe: Revelation  \\nAnimation, Action, Adventure               \n",
       "The Walking Dead                          \\nDrama, Horror, Thriller               \n",
       "Rick and Morty                       \\nAnimation, Adventure, Comedy               \n",
       "Army of Thieves                             \\nAction, Crime, Horror               \n",
       "\n",
       "                                                                              ONE-LINE  \\\n",
       "MOVIES                                                                                   \n",
       "Blood Red Sky                        \\nA woman with a mysterious illness is forced ...   \n",
       "Masters of the Universe: Revelation  \\nThe war for Eternia begins again in what may...   \n",
       "The Walking Dead                     \\nSheriff Deputy Rick Grimes wakes up from a c...   \n",
       "Rick and Morty                       \\nAn animated series that follows the exploits...   \n",
       "Army of Thieves                      \\nA prequel, set before the events of Army of ...   \n",
       "\n",
       "                                                                                 STARS  \n",
       "MOVIES                                                                                  \n",
       "Blood Red Sky                        \\n    Director:\\nPeter Thorwarth\\n| \\n    Star...  \n",
       "Masters of the Universe: Revelation  \\n            \\n    Stars:\\nChris Wood, \\nSara...  \n",
       "The Walking Dead                     \\n            \\n    Stars:\\nAndrew Lincoln, \\n...  \n",
       "Rick and Morty                       \\n            \\n    Stars:\\nJustin Roiland, \\n...  \n",
       "Army of Thieves                      \\n    Director:\\nMatthias Schweighöfer\\n| \\n  ...  "
      ]
     },
     "execution_count": 12,
     "metadata": {},
     "output_type": "execute_result"
    }
   ],
   "source": [
    "new_df = data[['MOVIES',\t'GENRE',\t'ONE-LINE',\t'STARS']]\n",
    "new_df.set_index('MOVIES', inplace=True)\n",
    "new_df.head()"
   ]
  },
  {
   "cell_type": "code",
   "execution_count": 13,
   "id": "e2018d30",
   "metadata": {
    "execution": {
     "iopub.execute_input": "2024-01-07T17:38:58.857088Z",
     "iopub.status.busy": "2024-01-07T17:38:58.856380Z",
     "iopub.status.idle": "2024-01-07T17:38:58.862498Z",
     "shell.execute_reply": "2024-01-07T17:38:58.861904Z"
    },
    "papermill": {
     "duration": 0.014818,
     "end_time": "2024-01-07T17:38:58.864105",
     "exception": false,
     "start_time": "2024-01-07T17:38:58.849287",
     "status": "completed"
    },
    "tags": []
   },
   "outputs": [],
   "source": [
    "new_df.fillna('', inplace=True)"
   ]
  },
  {
   "cell_type": "code",
   "execution_count": 14,
   "id": "5f578b71",
   "metadata": {
    "execution": {
     "iopub.execute_input": "2024-01-07T17:38:58.878502Z",
     "iopub.status.busy": "2024-01-07T17:38:58.877333Z",
     "iopub.status.idle": "2024-01-07T17:38:58.883629Z",
     "shell.execute_reply": "2024-01-07T17:38:58.882963Z"
    },
    "papermill": {
     "duration": 0.014701,
     "end_time": "2024-01-07T17:38:58.885240",
     "exception": false,
     "start_time": "2024-01-07T17:38:58.870539",
     "status": "completed"
    },
    "tags": []
   },
   "outputs": [],
   "source": [
    "# For director, cast, and listed_in\n",
    "# Because there is more than 1 people and categories\n",
    "# We don't want if people share the same first or last name consider the same person\n",
    "# or the word that appear in many categories (TV, etc) consider the same category\n",
    "def separate(texts):\n",
    "    t = []\n",
    "    for text in texts.split(','):\n",
    "        t.append(text.replace(' ', '').lower())\n",
    "    return ' '.join(t)\n",
    "\n",
    "def remove_space(texts):\n",
    "    return texts.replace(' ', '').lower()\n",
    "\n",
    "def remove_punc(texts):\n",
    "    return texts.translate(str.maketrans('','',string.punctuation)).lower()"
   ]
  },
  {
   "cell_type": "code",
   "execution_count": 15,
   "id": "627bd9cc",
   "metadata": {
    "execution": {
     "iopub.execute_input": "2024-01-07T17:38:58.899490Z",
     "iopub.status.busy": "2024-01-07T17:38:58.898498Z",
     "iopub.status.idle": "2024-01-07T17:38:58.956049Z",
     "shell.execute_reply": "2024-01-07T17:38:58.955191Z"
    },
    "papermill": {
     "duration": 0.066505,
     "end_time": "2024-01-07T17:38:58.957835",
     "exception": false,
     "start_time": "2024-01-07T17:38:58.891330",
     "status": "completed"
    },
    "tags": []
   },
   "outputs": [
    {
     "data": {
      "text/html": [
       "<div>\n",
       "<style scoped>\n",
       "    .dataframe tbody tr th:only-of-type {\n",
       "        vertical-align: middle;\n",
       "    }\n",
       "\n",
       "    .dataframe tbody tr th {\n",
       "        vertical-align: top;\n",
       "    }\n",
       "\n",
       "    .dataframe thead th {\n",
       "        text-align: right;\n",
       "    }\n",
       "</style>\n",
       "<table border=\"1\" class=\"dataframe\">\n",
       "  <thead>\n",
       "    <tr style=\"text-align: right;\">\n",
       "      <th></th>\n",
       "      <th>GENRE</th>\n",
       "      <th>ONE-LINE</th>\n",
       "      <th>STARS</th>\n",
       "    </tr>\n",
       "    <tr>\n",
       "      <th>MOVIES</th>\n",
       "      <th></th>\n",
       "      <th></th>\n",
       "      <th></th>\n",
       "    </tr>\n",
       "  </thead>\n",
       "  <tbody>\n",
       "    <tr>\n",
       "      <th>Blood Red Sky</th>\n",
       "      <td>\\naction,horror,thriller</td>\n",
       "      <td>\\nawomanwithamysteriousillnessisforcedintoacti...</td>\n",
       "      <td>\\ndirector:\\npeterthorwarth\\n|\\nstars:\\nperiba...</td>\n",
       "    </tr>\n",
       "    <tr>\n",
       "      <th>Masters of the Universe: Revelation</th>\n",
       "      <td>\\nanimation,action,adventure</td>\n",
       "      <td>\\nthewarforeterniabeginsagaininwhatmaybethefin...</td>\n",
       "      <td>\\n\\nstars:\\nchriswood \\nsarahmichellegellar \\n...</td>\n",
       "    </tr>\n",
       "    <tr>\n",
       "      <th>The Walking Dead</th>\n",
       "      <td>\\ndrama,horror,thriller</td>\n",
       "      <td>\\nsheriffdeputyrickgrimeswakesupfromacomatolea...</td>\n",
       "      <td>\\n\\nstars:\\nandrewlincoln \\nnormanreedus \\nmel...</td>\n",
       "    </tr>\n",
       "    <tr>\n",
       "      <th>Rick and Morty</th>\n",
       "      <td>\\nanimation,adventure,comedy</td>\n",
       "      <td>\\nananimatedseriesthatfollowstheexploitsofasup...</td>\n",
       "      <td>\\n\\nstars:\\njustinroiland \\nchrisparnell \\nspe...</td>\n",
       "    </tr>\n",
       "    <tr>\n",
       "      <th>Army of Thieves</th>\n",
       "      <td>\\naction,crime,horror</td>\n",
       "      <td>\\naprequel setbeforetheeventsofarmyofthedead w...</td>\n",
       "      <td>\\ndirector:\\nmatthiasschweighöfer\\n|\\nstars:\\n...</td>\n",
       "    </tr>\n",
       "  </tbody>\n",
       "</table>\n",
       "</div>"
      ],
      "text/plain": [
       "                                                            GENRE  \\\n",
       "MOVIES                                                              \n",
       "Blood Red Sky                            \\naction,horror,thriller   \n",
       "Masters of the Universe: Revelation  \\nanimation,action,adventure   \n",
       "The Walking Dead                          \\ndrama,horror,thriller   \n",
       "Rick and Morty                       \\nanimation,adventure,comedy   \n",
       "Army of Thieves                             \\naction,crime,horror   \n",
       "\n",
       "                                                                              ONE-LINE  \\\n",
       "MOVIES                                                                                   \n",
       "Blood Red Sky                        \\nawomanwithamysteriousillnessisforcedintoacti...   \n",
       "Masters of the Universe: Revelation  \\nthewarforeterniabeginsagaininwhatmaybethefin...   \n",
       "The Walking Dead                     \\nsheriffdeputyrickgrimeswakesupfromacomatolea...   \n",
       "Rick and Morty                       \\nananimatedseriesthatfollowstheexploitsofasup...   \n",
       "Army of Thieves                      \\naprequel setbeforetheeventsofarmyofthedead w...   \n",
       "\n",
       "                                                                                 STARS  \n",
       "MOVIES                                                                                  \n",
       "Blood Red Sky                        \\ndirector:\\npeterthorwarth\\n|\\nstars:\\nperiba...  \n",
       "Masters of the Universe: Revelation  \\n\\nstars:\\nchriswood \\nsarahmichellegellar \\n...  \n",
       "The Walking Dead                     \\n\\nstars:\\nandrewlincoln \\nnormanreedus \\nmel...  \n",
       "Rick and Morty                       \\n\\nstars:\\njustinroiland \\nchrisparnell \\nspe...  \n",
       "Army of Thieves                      \\ndirector:\\nmatthiasschweighöfer\\n|\\nstars:\\n...  "
      ]
     },
     "execution_count": 15,
     "metadata": {},
     "output_type": "execute_result"
    }
   ],
   "source": [
    "new_df['GENRE'] = new_df['GENRE'].apply(remove_space)\n",
    "new_df['STARS'] = new_df['STARS'].apply(separate)\n",
    "new_df['ONE-LINE'] = new_df['ONE-LINE'].apply(separate)\n",
    "\n",
    "new_df.head()"
   ]
  },
  {
   "cell_type": "code",
   "execution_count": 16,
   "id": "ea07a4b0",
   "metadata": {
    "execution": {
     "iopub.execute_input": "2024-01-07T17:38:58.972292Z",
     "iopub.status.busy": "2024-01-07T17:38:58.971976Z",
     "iopub.status.idle": "2024-01-07T17:39:15.898330Z",
     "shell.execute_reply": "2024-01-07T17:39:15.897486Z"
    },
    "papermill": {
     "duration": 16.936017,
     "end_time": "2024-01-07T17:39:15.900512",
     "exception": false,
     "start_time": "2024-01-07T17:38:58.964495",
     "status": "completed"
    },
    "tags": []
   },
   "outputs": [],
   "source": [
    "new_df['bag_of_words'] = ''\n",
    "\n",
    "# Combine all the words into 1 column\n",
    "for i, row in enumerate(new_df.iterrows()):\n",
    "    string = ''\n",
    "    for col in new_df.columns:\n",
    "        if row[1][col] == '':\n",
    "            continue\n",
    "        else:\n",
    "            string += row[1][col] + ' '\n",
    "            new_df['bag_of_words'][i] = string.strip()\n",
    "\n",
    "new_df.drop(new_df.columns[:-1], axis=1, inplace=True)"
   ]
  },
  {
   "cell_type": "code",
   "execution_count": 17,
   "id": "efff81a1",
   "metadata": {
    "execution": {
     "iopub.execute_input": "2024-01-07T17:39:15.916078Z",
     "iopub.status.busy": "2024-01-07T17:39:15.915697Z",
     "iopub.status.idle": "2024-01-07T17:39:15.924178Z",
     "shell.execute_reply": "2024-01-07T17:39:15.923234Z"
    },
    "papermill": {
     "duration": 0.018492,
     "end_time": "2024-01-07T17:39:15.925883",
     "exception": false,
     "start_time": "2024-01-07T17:39:15.907391",
     "status": "completed"
    },
    "tags": []
   },
   "outputs": [
    {
     "data": {
      "text/html": [
       "<div>\n",
       "<style scoped>\n",
       "    .dataframe tbody tr th:only-of-type {\n",
       "        vertical-align: middle;\n",
       "    }\n",
       "\n",
       "    .dataframe tbody tr th {\n",
       "        vertical-align: top;\n",
       "    }\n",
       "\n",
       "    .dataframe thead th {\n",
       "        text-align: right;\n",
       "    }\n",
       "</style>\n",
       "<table border=\"1\" class=\"dataframe\">\n",
       "  <thead>\n",
       "    <tr style=\"text-align: right;\">\n",
       "      <th></th>\n",
       "      <th>bag_of_words</th>\n",
       "    </tr>\n",
       "    <tr>\n",
       "      <th>MOVIES</th>\n",
       "      <th></th>\n",
       "    </tr>\n",
       "  </thead>\n",
       "  <tbody>\n",
       "    <tr>\n",
       "      <th>Blood Red Sky</th>\n",
       "      <td>action,horror,thriller \\nawomanwithamysterious...</td>\n",
       "    </tr>\n",
       "    <tr>\n",
       "      <th>Masters of the Universe: Revelation</th>\n",
       "      <td>animation,action,adventure \\nthewarforeterniab...</td>\n",
       "    </tr>\n",
       "    <tr>\n",
       "      <th>The Walking Dead</th>\n",
       "      <td>drama,horror,thriller \\nsheriffdeputyrickgrime...</td>\n",
       "    </tr>\n",
       "    <tr>\n",
       "      <th>Rick and Morty</th>\n",
       "      <td>animation,adventure,comedy \\nananimatedseriest...</td>\n",
       "    </tr>\n",
       "    <tr>\n",
       "      <th>Army of Thieves</th>\n",
       "      <td>action,crime,horror \\naprequel setbeforetheeve...</td>\n",
       "    </tr>\n",
       "  </tbody>\n",
       "</table>\n",
       "</div>"
      ],
      "text/plain": [
       "                                                                          bag_of_words\n",
       "MOVIES                                                                                \n",
       "Blood Red Sky                        action,horror,thriller \\nawomanwithamysterious...\n",
       "Masters of the Universe: Revelation  animation,action,adventure \\nthewarforeterniab...\n",
       "The Walking Dead                     drama,horror,thriller \\nsheriffdeputyrickgrime...\n",
       "Rick and Morty                       animation,adventure,comedy \\nananimatedseriest...\n",
       "Army of Thieves                      action,crime,horror \\naprequel setbeforetheeve..."
      ]
     },
     "execution_count": 17,
     "metadata": {},
     "output_type": "execute_result"
    }
   ],
   "source": [
    "new_df.head()\n"
   ]
  },
  {
   "cell_type": "code",
   "execution_count": 18,
   "id": "9b62372a",
   "metadata": {
    "execution": {
     "iopub.execute_input": "2024-01-07T17:39:15.941264Z",
     "iopub.status.busy": "2024-01-07T17:39:15.940895Z",
     "iopub.status.idle": "2024-01-07T17:39:16.046782Z",
     "shell.execute_reply": "2024-01-07T17:39:16.045823Z"
    },
    "papermill": {
     "duration": 0.116395,
     "end_time": "2024-01-07T17:39:16.049235",
     "exception": false,
     "start_time": "2024-01-07T17:39:15.932840",
     "status": "completed"
    },
    "tags": []
   },
   "outputs": [],
   "source": [
    "from sklearn.feature_extraction.text import TfidfVectorizer\n",
    "from sklearn.metrics.pairwise import cosine_similarity"
   ]
  },
  {
   "cell_type": "code",
   "execution_count": 19,
   "id": "fc711930",
   "metadata": {
    "execution": {
     "iopub.execute_input": "2024-01-07T17:39:16.064638Z",
     "iopub.status.busy": "2024-01-07T17:39:16.064293Z",
     "iopub.status.idle": "2024-01-07T17:39:16.288281Z",
     "shell.execute_reply": "2024-01-07T17:39:16.287489Z"
    },
    "papermill": {
     "duration": 0.233881,
     "end_time": "2024-01-07T17:39:16.290287",
     "exception": false,
     "start_time": "2024-01-07T17:39:16.056406",
     "status": "completed"
    },
    "tags": []
   },
   "outputs": [],
   "source": [
    "tfid = TfidfVectorizer()\n",
    "tfid_matrix = tfid.fit_transform(new_df['bag_of_words'])\n",
    "\n",
    "#tfid_matrix.vocabulary_"
   ]
  },
  {
   "cell_type": "code",
   "execution_count": 20,
   "id": "479679a8",
   "metadata": {
    "execution": {
     "iopub.execute_input": "2024-01-07T17:39:16.305007Z",
     "iopub.status.busy": "2024-01-07T17:39:16.304677Z",
     "iopub.status.idle": "2024-01-07T17:39:18.989569Z",
     "shell.execute_reply": "2024-01-07T17:39:18.988999Z"
    },
    "papermill": {
     "duration": 2.694251,
     "end_time": "2024-01-07T17:39:18.991448",
     "exception": false,
     "start_time": "2024-01-07T17:39:16.297197",
     "status": "completed"
    },
    "tags": []
   },
   "outputs": [
    {
     "data": {
      "text/plain": [
       "array([[1.        , 0.01211169, 0.05403134, ..., 0.00746985, 0.00806944,\n",
       "        0.00806944],\n",
       "       [0.01211169, 1.        , 0.00235276, ..., 0.        , 0.01640794,\n",
       "        0.01640794],\n",
       "       [0.05403134, 0.00235276, 1.        , ..., 0.        , 0.01058094,\n",
       "        0.01058094],\n",
       "       ...,\n",
       "       [0.00746985, 0.        , 0.        , ..., 1.        , 0.03981872,\n",
       "        0.03981872],\n",
       "       [0.00806944, 0.01640794, 0.01058094, ..., 0.03981872, 1.        ,\n",
       "        0.78437729],\n",
       "       [0.00806944, 0.01640794, 0.01058094, ..., 0.03981872, 0.78437729,\n",
       "        1.        ]])"
      ]
     },
     "execution_count": 20,
     "metadata": {},
     "output_type": "execute_result"
    }
   ],
   "source": [
    "cosine_sim = cosine_similarity(tfid_matrix, tfid_matrix)\n",
    "cosine_sim"
   ]
  },
  {
   "cell_type": "code",
   "execution_count": 21,
   "id": "5f5fa4a6",
   "metadata": {
    "execution": {
     "iopub.execute_input": "2024-01-07T17:39:19.007226Z",
     "iopub.status.busy": "2024-01-07T17:39:19.006625Z",
     "iopub.status.idle": "2024-01-07T17:39:19.011334Z",
     "shell.execute_reply": "2024-01-07T17:39:19.010711Z"
    },
    "papermill": {
     "duration": 0.014628,
     "end_time": "2024-01-07T17:39:19.013085",
     "exception": false,
     "start_time": "2024-01-07T17:39:18.998457",
     "status": "completed"
    },
    "tags": []
   },
   "outputs": [],
   "source": [
    "# Later on we will combine with similarity as a column\n",
    "final_df = data[['MOVIES', 'GENRE']]"
   ]
  },
  {
   "cell_type": "code",
   "execution_count": 22,
   "id": "17eea1df",
   "metadata": {
    "execution": {
     "iopub.execute_input": "2024-01-07T17:39:19.029410Z",
     "iopub.status.busy": "2024-01-07T17:39:19.028515Z",
     "iopub.status.idle": "2024-01-07T17:39:19.036838Z",
     "shell.execute_reply": "2024-01-07T17:39:19.035891Z"
    },
    "papermill": {
     "duration": 0.018356,
     "end_time": "2024-01-07T17:39:19.038873",
     "exception": false,
     "start_time": "2024-01-07T17:39:19.020517",
     "status": "completed"
    },
    "tags": []
   },
   "outputs": [],
   "source": [
    "def recommendation(title, total_result=5, threshold=0.5):\n",
    "    # Get the index\n",
    "    idx = final_df[final_df['MOVIES'] == title].index[0]\n",
    "    # Create a new column for similarity, the value is different for each title you input\n",
    "    final_df['similarity'] = cosine_sim[idx]\n",
    "    sort_final_df = final_df.sort_values(by='similarity', ascending=False)[1:total_result+1]\n",
    "    \n",
    "    # You can set a threshold if you want to norrow the result down \n",
    "    #sort_final_df = sort_final_df[sort_final_df['similarity'] > threshold]\n",
    "    \n",
    "    # Is the title a movie or tv show?\n",
    "    movies = sort_final_df['MOVIES'][sort_final_df['GENRE'] == 'Movie']\n",
    "    tv_shows = sort_final_df['MOVIES'][sort_final_df['GENRE'] == 'TV Show']\n",
    "    \n",
    "    if len(movies) != 0:\n",
    "        print('Similar Movie(s) list:')\n",
    "        for i, movie in enumerate(movies):\n",
    "            print('{}. {}'.format(i+1, movie))\n",
    "        print()\n",
    "    else:\n",
    "        print('Similar Movie(s) list:')\n",
    "        print('-\\n')\n",
    "        \n",
    "    if len(tv_shows) != 0:\n",
    "        print('Similar TV_show(s) list:')\n",
    "        for i, tv_show in enumerate(tv_shows):\n",
    "            print('{}. {}'.format(i+1, tv_show))\n",
    "    else:\n",
    "        print('Similar TV_show(s) list:')\n",
    "        print('-')\n",
    "\n"
   ]
  }
 ],
 "metadata": {
  "kaggle": {
   "accelerator": "none",
   "dataSources": [
    {
     "datasetId": 1512088,
     "sourceId": 2497338,
     "sourceType": "datasetVersion"
    }
   ],
   "dockerImageVersionId": 30626,
   "isGpuEnabled": false,
   "isInternetEnabled": false,
   "language": "python",
   "sourceType": "notebook"
  },
  "kernelspec": {
   "display_name": "Python 3",
   "language": "python",
   "name": "python3"
  },
  "language_info": {
   "codemirror_mode": {
    "name": "ipython",
    "version": 3
   },
   "file_extension": ".py",
   "mimetype": "text/x-python",
   "name": "python",
   "nbconvert_exporter": "python",
   "pygments_lexer": "ipython3",
   "version": "3.10.12"
  },
  "papermill": {
   "default_parameters": {},
   "duration": 25.358104,
   "end_time": "2024-01-07T17:39:19.565987",
   "environment_variables": {},
   "exception": null,
   "input_path": "__notebook__.ipynb",
   "output_path": "__notebook__.ipynb",
   "parameters": {},
   "start_time": "2024-01-07T17:38:54.207883",
   "version": "2.4.0"
  }
 },
 "nbformat": 4,
 "nbformat_minor": 5
}
